{
 "cells": [
  {
   "cell_type": "markdown",
   "metadata": {},
   "source": [
    "## chequear listado de mails con algun criterio\n",
    "usar conda env gmailapi"
   ]
  },
  {
   "cell_type": "code",
   "execution_count": null,
   "metadata": {},
   "outputs": [],
   "source": [
    "from gmail_search import get_gmail_service, search_emails\n",
    "\n",
    "sender_email = \"somemail@gmail.com\"#  # Replace with the sender's email\n",
    "subject_text = \"Hoja de Evaluación de Servicios\"   # Replace with the text to search\n",
    "service = get_gmail_service()\n",
    "search_emails(service, sender_email, subject_text)"
   ]
  }
 ],
 "metadata": {
  "kernelspec": {
   "display_name": "gmailapi",
   "language": "python",
   "name": "python3"
  },
  "language_info": {
   "codemirror_mode": {
    "name": "ipython",
    "version": 3
   },
   "file_extension": ".py",
   "mimetype": "text/x-python",
   "name": "python",
   "nbconvert_exporter": "python",
   "pygments_lexer": "ipython3",
   "version": "3.10.16"
  }
 },
 "nbformat": 4,
 "nbformat_minor": 2
}
